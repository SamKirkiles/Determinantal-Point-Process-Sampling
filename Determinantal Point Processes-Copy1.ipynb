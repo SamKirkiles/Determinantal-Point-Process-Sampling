{
 "cells": [
  {
   "cell_type": "code",
   "execution_count": 1,
   "id": "aa136fff",
   "metadata": {},
   "outputs": [],
   "source": [
    "import numpy as np\n",
    "import networkx as nx\n",
    "from networkx import grid_graph\n",
    "from scipy import linalg\n",
    "from scipy.special import sici\n",
    "import math\n",
    "from matplotlib import pyplot as plt\n",
    "from dppy.finite_dpps import FiniteDPP\n",
    "from dppy.utils import example_eval_L_linear\n",
    "from scipy.integrate import quad, dblquad, nquad\n",
    "from scipy.special import airy\n",
    "from tqdm.notebook import tqdm, trange\n",
    "from time import sleep\n",
    "from os import system\n",
    "from IPython.display import clear_output\n",
    "import itertools\n",
    "from p_tqdm import p_map"
   ]
  },
  {
   "cell_type": "markdown",
   "id": "8fc320d8",
   "metadata": {},
   "source": [
    "\n",
    "# Poulson Algorithm 1"
   ]
  },
  {
   "cell_type": "code",
   "execution_count": null,
   "id": "157352f0",
   "metadata": {},
   "outputs": [],
   "source": [
    "def sampling_algorithm_1(K):\n",
    "    \n",
    "    n = len(K)\n",
    "    \n",
    "    sample = []\n",
    "    A = K.copy()\n",
    "\n",
    "    for j in range(n):\n",
    "\n",
    "        if np.random.rand() < A[j][j]:\n",
    "            sample.append(j)\n",
    "        else:\n",
    "            A[j, j] -= 1\n",
    "\n",
    "        A[j+1:, j] /= A[j, j]\n",
    "        A[j+1:, j+1:] -= np.outer(A[j+1:, j], A[j, j+1:])\n",
    "\n",
    "    return sample, A"
   ]
  },
  {
   "cell_type": "markdown",
   "id": "5bd8e2af",
   "metadata": {},
   "source": [
    "# Sine Kernel Projection"
   ]
  },
  {
   "cell_type": "code",
   "execution_count": null,
   "id": "3489030f",
   "metadata": {
    "scrolled": false
   },
   "outputs": [],
   "source": [
    "n = 500\n",
    "\n",
    "#algorithm = \"Poulson\"\n",
    "algorithm = \"DPPy\"\n",
    "\n",
    "def Si(x):\n",
    "    try: \n",
    "        upper = sici(x)[0]\n",
    "    except:\n",
    "        upper = sici(x)\n",
    "    return upper\n",
    "        \n",
    "def integral_Si(x):\n",
    "    return math.cos(x) + x*Si(x)\n",
    "\n",
    "def compute_sine_kernel_entry(a,b,c,d):\n",
    "    return (integral_Si(math.pi*(c-b))-integral_Si(math.pi*(c-a)) - (integral_Si(math.pi*(d-b))- integral_Si(math.pi*(d-a))))/((math.pi**2)*(b-a)*(d-c))\n",
    "\n",
    "r =[-20,20]\n",
    "slice_size = (max(r)-min(r))/n\n",
    "\n",
    "# determine # of slices \n",
    "n_slices = int((max(r)-min(r))/slice_size +1)\n",
    "\n",
    "# split the range\n",
    "x_part = np.linspace(*r, n_slices)\n",
    "y_part = np.linspace(*r, n_slices)\n",
    "\n",
    "kernel = np.array([[compute_sine_kernel_entry(x_part[i],x_part[i+1],y_part[j],y_part[j+1]) for i in range(len(x_part)-1)] for j in range(len(y_part)-1)])\n",
    "kernel = kernel*(slice_size)\n",
    "\n",
    "\n",
    "eigenvalues, eigenvectors = np.linalg.eig(kernel)\n",
    "\n",
    "print(\"Kernel Trace: \" + str(np.trace(kernel)))\n",
    "print(\"Max Eigenvalue: \" + str(max(eigenvalues.real)))\n",
    "print(\"Min Eigenvalue: \" + str(min(eigenvalues.real)))\n",
    "\n",
    "\n",
    "samples = None\n",
    "\n",
    "if algorithm == \"Poulson\":\n",
    "    samples,_ = sampling_algorithm_1(kernel)\n",
    "elif algorithm == \"DPPy\":\n",
    "    DPP = FiniteDPP('correlation', **{'K': kernel})\n",
    "    DPP.sample_exact()\n",
    "    samples = DPP.list_of_samples[0]\n",
    "\n",
    "plt.matshow(np.array(kernel))\n",
    "plt.colorbar()\n",
    "plt.title(\"Discretized Sine Kernel\")\n",
    "plt.show()\n",
    "\n",
    "fig = plt.figure(figsize=(10,1))\n",
    "plt.scatter(np.array(samples)/n*(max(airy_window)-min(airy_window))-(max(r)-min(r))/2,np.zeros(len(samples)))\n",
    "print(len(samples))"
   ]
  },
  {
   "cell_type": "markdown",
   "id": "249f03d6",
   "metadata": {},
   "source": [
    "# Airy Kernel Projection\n"
   ]
  },
  {
   "cell_type": "code",
   "execution_count": 2,
   "id": "ec900cb1",
   "metadata": {},
   "outputs": [
    {
     "data": {
      "application/vnd.jupyter.widget-view+json": {
       "model_id": "62b25b34127d453bb52669afbab81ada",
       "version_major": 2,
       "version_minor": 0
      },
      "text/plain": [
       "  0%|          | 0/1000000 [00:00<?, ?it/s]"
      ]
     },
     "metadata": {},
     "output_type": "display_data"
    }
   ],
   "source": [
    "n = 1000\n",
    "airy_window =[-75,25]\n",
    "slice_size = (max(airy_window)-min(airy_window))/n\n",
    "\n",
    "def compute_airy_kernel_entry(params):\n",
    "    a,b,c,d = params\n",
    "    \n",
    "    if (a==c):\n",
    "        a+= 0.00000000001\n",
    "    if (c==b):\n",
    "        b-= 0.00000000001\n",
    "            \n",
    "    return dblquad(lambda x, y: (airy(x)[0]*airy(y)[1] - airy(x)[1]*airy(y)[0])/(x-y), a,b,c,d)[0]/((slice_size)**2)\n",
    "\n",
    "\n",
    "# determine # of slices \n",
    "n_slices = int((max(airy_window)-min(airy_window))/slice_size +1)\n",
    "\n",
    "# split the range\n",
    "x_part = np.linspace(*airy_window, n_slices)\n",
    "y_part = np.linspace(*airy_window, n_slices)\n",
    "\n",
    "inputs = [(x_part[i],x_part[i+1],y_part[j],y_part[j+1]) for i in range(len(x_part)-1) for j in range(len(y_part)-1)]\n",
    "num_tasks = len(inputs)\n",
    "\n",
    "airy_kernel = p_map(compute_airy_kernel_entry,inputs, num_cpus=4)\n",
    "\n",
    "airy_kernel = np.array(airy_kernel).reshape(len(x_part)-1,len(y_part)-1)\n",
    "\n",
    "#kernel = np.array([[compute_airy_kernel_entry(x_part[i],x_part[i+1],y_part[j],y_part[j+1]) for i in range(len(x_part)-1)] for j in range(len(y_part)-1)])\n",
    "airy_kernel = airy_kernel*(slice_size)\n",
    "\n",
    "#np.save(\"airy_kernel\", (airy_kernel,n,airy_window), allow_pickle=True, fix_imports=True)\n"
   ]
  },
  {
   "cell_type": "code",
   "execution_count": 24,
   "id": "fe5a5bb9",
   "metadata": {},
   "outputs": [],
   "source": [
    "# Load from file \n",
    "(airy_kernel, n, airy_window) = np.load('airy_kernel.npy', allow_pickle=True)"
   ]
  },
  {
   "cell_type": "code",
   "execution_count": 25,
   "id": "66573d5b",
   "metadata": {},
   "outputs": [
    {
     "data": {
      "image/png": "[encoded data removed]",
      "text/plain": [
       "<Figure size 288x288 with 2 Axes>"
      ]
     },
     "metadata": {
      "needs_background": "light"
     },
     "output_type": "display_data"
    },
    {
     "name": "stdout",
     "output_type": "stream",
     "text": [
      "Kernel Trace: 136.12768676619626\n",
      "Max Eigenvalue: 0.9999985357832325\n",
      "Min Eigenvalue: -1.4168480717721586e-10\n",
      "136\n"
     ]
    },
    {
     "data": {
      "image/png": "[encoded data removed]",
      "text/plain": [
       "<Figure size 720x72 with 1 Axes>"
      ]
     },
     "metadata": {
      "needs_background": "light"
     },
     "output_type": "display_data"
    }
   ],
   "source": [
    "#algorithm = \"Poulson\"\n",
    "algorithm = \"DPPy\"\n",
    "\n",
    "plt.matshow(np.array(airy_kernel))\n",
    "plt.colorbar()\n",
    "plt.title(\"Discretized Airy Kernel\")\n",
    "plt.show()\n",
    "\n",
    "\n",
    "eigenvalues, eigenvectors = np.linalg.eig(airy_kernel)\n",
    "\n",
    "print(\"Kernel Trace: \" + str(np.trace(airy_kernel)))\n",
    "print(\"Max Eigenvalue: \" + str(max(eigenvalues.real)))\n",
    "print(\"Min Eigenvalue: \" + str(min(eigenvalues.real)))\n",
    "\n",
    "samples = None\n",
    "\n",
    "if algorithm == \"Poulson\":\n",
    "    samples,_ = sampling_algorithm_1(airy_kernel)\n",
    "elif algorithm == \"DPPy\":\n",
    "    DPP = FiniteDPP('correlation', **{'K': airy_kernel})\n",
    "    DPP.sample_exact()\n",
    "    samples = DPP.list_of_samples[0]\n",
    "\n",
    "\n",
    "fig = plt.figure(figsize=(10,1))\n",
    "plt.scatter(np.array(samples)/n*(max(airy_window)-min(airy_window))-(abs(min(airy_window))),np.zeros(len(samples)))\n",
    "plt.xlim(airy_window[0]-5, airy_window[1]+5)\n",
    "print(len(samples))"
   ]
  },
  {
   "cell_type": "code",
   "execution_count": 21,
   "id": "52e8ed8a",
   "metadata": {},
   "outputs": [],
   "source": []
  },
  {
   "cell_type": "code",
   "execution_count": 20,
   "id": "a3b4ece6",
   "metadata": {},
   "outputs": [],
   "source": []
  },
  {
   "cell_type": "code",
   "execution_count": 23,
   "id": "7ecc96d0",
   "metadata": {},
   "outputs": [
    {
     "data": {
      "text/plain": [
       "1000"
      ]
     },
     "execution_count": 23,
     "metadata": {},
     "output_type": "execute_result"
    }
   ],
   "source": [
    "samples"
   ]
  },
  {
   "cell_type": "code",
   "execution_count": null,
   "id": "42a21046",
   "metadata": {},
   "outputs": [],
   "source": []
  }
 ],
 "metadata": {
  "kernelspec": {
   "display_name": "Python 3 (ipykernel)",
   "language": "python",
   "name": "python3"
  },
  "language_info": {
   "codemirror_mode": {
    "name": "ipython",
    "version": 3
   },
   "file_extension": ".py",
   "mimetype": "text/x-python",
   "name": "python",
   "nbconvert_exporter": "python",
   "pygments_lexer": "ipython3",
   "version": "3.8.9"
  }
 },
 "nbformat": 4,
 "nbformat_minor": 5
}
