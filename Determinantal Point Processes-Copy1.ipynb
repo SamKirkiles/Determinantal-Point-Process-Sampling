{
 "cells": [
  {
   "cell_type": "code",
   "execution_count": 32,
   "id": "aa136fff",
   "metadata": {},
   "outputs": [],
   "source": [
    "import numpy as np\n",
    "import networkx as nx\n",
    "from networkx import grid_graph\n",
    "from scipy import linalg\n",
    "from scipy.special import sici\n",
    "import math\n",
    "from matplotlib import pyplot as plt\n",
    "from dppy.finite_dpps import FiniteDPP\n",
    "from dppy.utils import example_eval_L_linear\n",
    "from scipy.integrate import quad, dblquad, nquad\n",
    "from scipy.special import airy\n",
    "from tqdm.notebook import tqdm, trange\n",
    "from time import sleep\n",
    "from os import system\n",
    "from IPython.display import clear_output\n"
   ]
  },
  {
   "cell_type": "markdown",
   "id": "8fc320d8",
   "metadata": {},
   "source": [
    "\n",
    "# Poulson Algorithm 1"
   ]
  },
  {
   "cell_type": "code",
   "execution_count": 28,
   "id": "157352f0",
   "metadata": {},
   "outputs": [],
   "source": [
    "def sampling_algorithm_1(K):\n",
    "    \n",
    "    n = len(K)\n",
    "    \n",
    "    sample = []\n",
    "    A = K.copy()\n",
    "\n",
    "    for j in range(n):\n",
    "\n",
    "        if np.random.rand() < A[j][j]:\n",
    "            sample.append(j)\n",
    "        else:\n",
    "            A[j, j] -= 1\n",
    "\n",
    "        A[j+1:, j] /= A[j, j]\n",
    "        A[j+1:, j+1:] -= np.outer(A[j+1:, j], A[j, j+1:])\n",
    "\n",
    "    return sample, A"
   ]
  },
  {
   "cell_type": "markdown",
   "id": "5bd8e2af",
   "metadata": {},
   "source": [
    "# Scaled Sine Kernel Projection"
   ]
  },
  {
   "cell_type": "code",
   "execution_count": 29,
   "id": "3489030f",
   "metadata": {
    "scrolled": false
   },
   "outputs": [
    {
     "name": "stdout",
     "output_type": "stream",
     "text": [
      "Kernel Trace: 19.991229788499588\n",
      "Max Eigenvalue: 0.9999963688035868\n",
      "Min Eigenvalue: -2.66732108637047e-12\n"
     ]
    },
    {
     "data": {
      "image/png": "[encoded data removed]",
      "text/plain": [
       "<Figure size 288x288 with 2 Axes>"
      ]
     },
     "metadata": {
      "needs_background": "light"
     },
     "output_type": "display_data"
    },
    {
     "name": "stdout",
     "output_type": "stream",
     "text": [
      "19\n"
     ]
    },
    {
     "data": {
      "image/png": "[encoded data removed]",
      "text/plain": [
       "<Figure size 720x72 with 1 Axes>"
      ]
     },
     "metadata": {
      "needs_background": "light"
     },
     "output_type": "display_data"
    }
   ],
   "source": [
    "n = 500\n",
    "\n",
    "#algorithm = \"Poulson\"\n",
    "algorithm = \"DPPy\"\n",
    "\n",
    "def Si(x):\n",
    "    try: \n",
    "        upper = sici(x)[0]\n",
    "    except:\n",
    "        upper = sici(x)\n",
    "    return upper\n",
    "        \n",
    "def integral_Si(x):\n",
    "    return math.cos(x) + x*Si(x)\n",
    "\n",
    "def compute_sine_kernel_entry(a,b,c,d):\n",
    "    return (integral_Si(math.pi*(c-b))-integral_Si(math.pi*(c-a)) - (integral_Si(math.pi*(d-b))- integral_Si(math.pi*(d-a))))/((math.pi**2)*(b-a)*(d-c))\n",
    "\n",
    "r =[0,20]\n",
    "slice_size = (max(r)-min(r))/n\n",
    "\n",
    "# determine # of slices \n",
    "n_slices = int((max(r)-min(r))/slice_size +1)\n",
    "\n",
    "# split the range\n",
    "x_part = np.linspace(*r, n_slices)\n",
    "y_part = np.linspace(*r, n_slices)\n",
    "\n",
    "kernel = np.array([[compute_sine_kernel_entry(x_part[i],x_part[i+1],y_part[j],y_part[j+1]) for i in range(len(x_part)-1)] for j in range(len(y_part)-1)])\n",
    "kernel = kernel*(slice_size)\n",
    "\n",
    "\n",
    "eigenvalues, eigenvectors = np.linalg.eig(kernel)\n",
    "\n",
    "print(\"Kernel Trace: \" + str(np.trace(kernel)))\n",
    "print(\"Max Eigenvalue: \" + str(max(eigenvalues.real)))\n",
    "print(\"Min Eigenvalue: \" + str(min(eigenvalues.real)))\n",
    "\n",
    "\n",
    "samples = None\n",
    "\n",
    "if algorithm == \"Poulson\":\n",
    "    samples,_ = sampling_algorithm_1(kernel)\n",
    "elif algorithm == \"DPPy\":\n",
    "    DPP = FiniteDPP('correlation', **{'K': kernel})\n",
    "    DPP.sample_exact()\n",
    "    samples = DPP.list_of_samples[0]\n",
    "\n",
    "plt.matshow(np.array(kernel))\n",
    "plt.colorbar()\n",
    "plt.title(\"Discretized Sine Kernel\")\n",
    "plt.show()\n",
    "\n",
    "fig = plt.figure(figsize=(10,1))\n",
    "plt.scatter(np.array(samples)/n*(max(r)-min(r)),np.zeros(len(samples)))\n",
    "print(len(samples))"
   ]
  },
  {
   "cell_type": "code",
   "execution_count": null,
   "id": "66573d5b",
   "metadata": {},
   "outputs": [
    {
     "name": "stdout",
     "output_type": "stream",
     "text": [
      "29142\n"
     ]
    }
   ],
   "source": [
    "n = 1000\n",
    "\n",
    "#algorithm = \"Poulson\"\n",
    "algorithm = \"DPPy\"\n",
    "\n",
    "samples = 0\n",
    "\n",
    "def compute_airy_kernel_entry(a,b,c,d):\n",
    "    global samples \n",
    "    \n",
    "    if (a==c):\n",
    "        a+= 0.00000000001\n",
    "    if (c==b):\n",
    "        b-= 0.00000000001\n",
    "        \n",
    "    samples +=1 \n",
    "    print(samples)\n",
    "    clear_output(wait=True)\n",
    "    \n",
    "    return dblquad(lambda x, y: (airy(x)[0]*airy(y)[1] - airy(x)[1]*airy(y)[0])/(x-y), a,b,c,d)[0]\n",
    "\n",
    "r =[-50,50]\n",
    "slice_size = (max(r)-min(r))/n\n",
    "\n",
    "# determine # of slices \n",
    "n_slices = int((max(r)-min(r))/slice_size +1)\n",
    "\n",
    "# split the range\n",
    "x_part = np.linspace(*r, n_slices)\n",
    "y_part = np.linspace(*r, n_slices)\n",
    "\n",
    "kernel = np.array([[compute_airy_kernel_entry(x_part[i],x_part[i+1],y_part[j],y_part[j+1]) for i in range(len(x_part)-1)] for j in range(len(y_part)-1)])\n",
    "kernel = kernel*(slice_size)\n",
    "\n",
    "print(np.min(kernel))\n",
    "\n",
    "plt.matshow(np.array(kernel))\n",
    "\n",
    "plt.colorbar()\n",
    "plt.title(\"Discretized Airy Kernel\")\n",
    "plt.show()\n",
    "\n",
    "\n",
    "eigenvalues, eigenvectors = np.linalg.eig(kernel)\n",
    "\n",
    "print(\"Kernel Trace: \" + str(np.trace(kernel)))\n",
    "print(\"Max Eigenvalue: \" + str(max(eigenvalues.real)))\n",
    "print(\"Min Eigenvalue: \" + str(min(eigenvalues.real)))\n",
    "\n",
    "\n",
    "samples = None\n",
    "\n",
    "if algorithm == \"Poulson\":\n",
    "    samples,_ = sampling_algorithm_1(kernel)\n",
    "elif algorithm == \"DPPy\":\n",
    "    DPP = FiniteDPP('correlation', **{'K': kernel})\n",
    "    DPP.sample_exact()\n",
    "    samples = DPP.list_of_samples[0]\n",
    "\n",
    "\n",
    "fig = plt.figure(figsize=(10,1))\n",
    "plt.scatter(np.array(samples)/n*(max(r)-min(r)),np.zeros(len(samples)))\n",
    "print(len(samples))"
   ]
  },
  {
   "cell_type": "code",
   "execution_count": null,
   "id": "194b15b6",
   "metadata": {},
   "outputs": [],
   "source": []
  },
  {
   "cell_type": "code",
   "execution_count": null,
   "id": "d1d6fbec",
   "metadata": {},
   "outputs": [],
   "source": [
    "print(np.linalg.eig(kernel)[0])"
   ]
  },
  {
   "cell_type": "code",
   "execution_count": null,
   "id": "013c7cc9",
   "metadata": {},
   "outputs": [],
   "source": [
    "DPP = FiniteDPP('correlation',\n",
    "                **{'K': kernel})\n",
    "DPP.plot_kernel()\n",
    "\n",
    "\n",
    "\n",
    "for _ in range(10):\n",
    "    DPP.sample_exact()\n",
    "    \n",
    "\n",
    "DPP.list_of_samples\n",
    "DPP.flush_samples()\n",
    "DPP.list_of_samples"
   ]
  },
  {
   "cell_type": "markdown",
   "id": "bad5a03e",
   "metadata": {},
   "source": [
    " # Scaled Sine Kernel Projection"
   ]
  },
  {
   "cell_type": "code",
   "execution_count": null,
   "id": "e4c0e324",
   "metadata": {},
   "outputs": [],
   "source": [
    "n = 100\n",
    "a=0\n",
    "b=100\n",
    "\n",
    "bins = n-1\n",
    "\n",
    "def sinx_x(m):\n",
    "    m[m != 0] = np.sin(math.pi*m[m != 0])/(math.pi*m[m != 0])\n",
    "    m[m==0] = 1\n",
    "    return m \n",
    "\n",
    "partitions = np.linspace(a, b, num=n)\n",
    "\n",
    "random_vect = np.array([np.random.uniform(partitions[i], partitions[i+1]) for i in range(len(partitions)-1)])\n",
    "random_vect = np.repeat(random_vect, bins).reshape(bins,bins)\n",
    "\n",
    "kernel = sinx_x(random_vect-random_vect.T)\n",
    "\n",
    "#print(np.linalg.norm(kernel))\n",
    "\n",
    "#kernel = kernel/(np.trace(kernel)) * 100\n",
    "\n",
    "\n",
    "eigenvalues, eigenvectors = np.linalg.eig(kernel)\n",
    "\n",
    "print(np.trace(kernel))\n",
    "print(max(eigenvalues.real))\n",
    "\n",
    "\n",
    "#print(eigenvalues.real)\n",
    "\n",
    "#eigenvalues = eigenvalues.real\n",
    "\n",
    "# Eigenvalue scaling\n",
    "#eigenvalues /= max(eigenvalues)\n",
    "#eigenvalues =  eigenvalues / sum(eigenvalues) * (b-a)\n",
    "\n",
    "# Eigenvalue scaling \n",
    "\n",
    "#print(eigenvectors)\n",
    "#/np.linalg.norm(kernel)\n",
    "\n",
    "#print(np.trace(kernel_normalized))\n",
    "\n",
    "\n",
    "#DPP = FiniteDPP('correlation',\n",
    "#                **{'K': kernel_normalized})\n",
    "\n",
    "\n",
    "#DPP = FiniteDPP('correlation',\n",
    "#                **{'K_eig_dec': (eigenvalues.real, eigenvectors.real)})\n",
    "\n",
    "#DPP.plot_kernel()\n",
    "#for _ in range(1):\n",
    "#    DPP.sample_exact()\n",
    "\n",
    "#samples = DPP.list_of_samples[0]\n",
    "\n",
    "#print(DPP.list_of_samples)\n",
    "\n",
    "#kernel = eigenvectors.real.dot(np.diag(eigenvalues.real).dot(eigenvectors.real.T))\n",
    "\n",
    "\n",
    "plt.matshow(np.array(kernel))\n",
    "plt.colorbar()\n",
    "plt.title(\"Discretized Sine Kernel\")\n",
    "plt.show()\n",
    "\n",
    "\n",
    "#samples,A = sampling_algorithm_1(kernel)\n",
    "\n",
    "fig = plt.figure(figsize=(10,1))\n",
    "plt.scatter(samples,np.zeros(len(samples)))\n",
    "print(samples)\n",
    "#print(len(samples))"
   ]
  },
  {
   "cell_type": "code",
   "execution_count": null,
   "id": "e9f48715",
   "metadata": {},
   "outputs": [],
   "source": [
    "\n",
    "print(np.linalg.eig(kernel_normalized)[0])\n",
    "\n",
    "DPP = FiniteDPP('correlation',\n",
    "                **{'K': kernel_normalized})\n",
    "DPP.plot_kernel()\n",
    "\n",
    "print(np.trace(kernel_normalized))\n",
    "\n",
    "for _ in range(10):\n",
    "    DPP.sample_exact()\n",
    "\n",
    "DPP.list_of_samples\n"
   ]
  },
  {
   "cell_type": "markdown",
   "id": "3f20f6e5",
   "metadata": {},
   "source": [
    " # Gaussian Kernel in R^2\n"
   ]
  },
  {
   "cell_type": "code",
   "execution_count": null,
   "id": "ab08e255",
   "metadata": {},
   "outputs": [],
   "source": [
    "n = 10\n",
    "a=-1\n",
    "b=1\n",
    "intensity = 10 \n",
    "\n",
    "bins = n-1\n",
    "\n",
    "def gaussian_kernel(m):\n",
    "    return np.exp(-(np.power(m,2)))\n",
    "\n",
    "partitions = np.linspace(a, b, num=n)\n",
    "\n",
    "random_vect = np.array([np.random.uniform(partitions[i], partitions[i+1]) for i in range(len(partitions)-1)])\n",
    "random_vect = np.repeat(random_vect, bins).reshape(bins,bins)\n",
    "\n",
    "kernel = gaussian_kernel(random_vect-random_vect.T)\n",
    "kernel = kernel\n",
    "\n",
    "print(np.trace(kernel))\n",
    "\n",
    "plt.matshow(np.array(kernel))\n",
    "plt.colorbar()\n",
    "plt.title(\"Discretized Gaussian Kernel\")\n",
    "plt.show()\n",
    "\n",
    "samples,_ = sampling_algorithm_1(np.array(kernel))\n",
    "fig = plt.figure(figsize=(10,1))\n",
    "plt.scatter(samples,np.zeros(len(samples)))\n",
    "print(len(samples))"
   ]
  },
  {
   "cell_type": "code",
   "execution_count": null,
   "id": "5935a16e",
   "metadata": {},
   "outputs": [],
   "source": [
    "bins_horizontal = 100\n",
    "n = bins_horizontal * bins_horizontal\n",
    "intensity = 5\n",
    "a=0\n",
    "b=5\n",
    "\n",
    "partitions = np.linspace(a, b, num=bins_horizontal)\n",
    "\n",
    "def gaussian_kernel_grid(m):\n",
    "    return np.exp(-(np.power(m[:,:,0],2) + np.power(m[:,:,1],2)))\n",
    "\n",
    "random_vect = np.array([[np.random.uniform(partitions[i], partitions[i+1]),\n",
    "                         np.random.uniform(partitions[j], partitions[j+1]) ]\n",
    "                       for i in range(len(partitions)-1) for j in range(len(partitions)-1)                        \n",
    "                       ]\n",
    "                      ).reshape(bins_horizontal-1,bins_horizontal-1,2)\n",
    "\n",
    "\n",
    "kernel = gaussian_kernel_grid(random_vect-random_vect.transpose((1,0,2)))\n",
    "kernel = (b-a)/np.trace(kernel) * kernel\n",
    "\n",
    "\n",
    "plt.matshow(np.array(kernel))\n",
    "plt.colorbar()\n",
    "plt.title(\"Discretized Gaussian Kernel\")\n",
    "plt.show()\n",
    "\n",
    "samples,_ = sampling_algorithm_1(np.array(kernel))\n",
    "\n",
    "\n",
    "output = np.zeros(bins_horizontal)\n",
    "output[samples] = 1\n",
    "\n",
    "random_vect = np.array([[np.random.uniform(partitions[i], partitions[i+1]),\n",
    "                         np.random.uniform(partitions[j], partitions[j+1]) ]\n",
    "                       for i in range(bins_horizontal-1) for j in range(bins_horizontal-1)                        \n",
    "                       ]\n",
    "                      )\n",
    "\n",
    "\n",
    "plt.scatter(random_vect[samples].T[0], random_vect[samples].T[1])\n"
   ]
  },
  {
   "cell_type": "code",
   "execution_count": null,
   "id": "94b85ed6",
   "metadata": {},
   "outputs": [],
   "source": []
  }
 ],
 "metadata": {
  "kernelspec": {
   "display_name": "Python 3 (ipykernel)",
   "language": "python",
   "name": "python3"
  },
  "language_info": {
   "codemirror_mode": {
    "name": "ipython",
    "version": 3
   },
   "file_extension": ".py",
   "mimetype": "text/x-python",
   "name": "python",
   "nbconvert_exporter": "python",
   "pygments_lexer": "ipython3",
   "version": "3.8.9"
  }
 },
 "nbformat": 4,
 "nbformat_minor": 5
}
